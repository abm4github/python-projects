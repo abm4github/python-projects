{
  "nbformat": 4,
  "nbformat_minor": 0,
  "metadata": {
    "colab": {
      "name": "Code_the_Patterns.ipynb",
      "provenance": [],
      "collapsed_sections": [],
      "authorship_tag": "ABX9TyPdAlzjf/83vOv/Ng8pSsjZ",
      "include_colab_link": true
    },
    "kernelspec": {
      "name": "python3",
      "display_name": "Python 3"
    },
    "language_info": {
      "name": "python"
    }
  },
  "cells": [
    {
      "cell_type": "markdown",
      "metadata": {
        "id": "view-in-github",
        "colab_type": "text"
      },
      "source": [
        "<a href=\"https://colab.research.google.com/github/abm4github/python-projects/blob/master/Code_the_Patterns.ipynb\" target=\"_parent\"><img src=\"https://colab.research.google.com/assets/colab-badge.svg\" alt=\"Open In Colab\"/></a>"
      ]
    },
    {
      "cell_type": "code",
      "source": [
        "next = 'yes'\n",
        "while next == 'yes':\n",
        "  design = input('Select the design: ' )\n",
        "  num = int(input( ))\n",
        "  if design == \"right stair case\":\n",
        "    i= 0\n",
        "    while i < num+1:\n",
        "      print(f'{(i) * \"*\"}')\n",
        "      i+=1\n",
        "    next = input( )  \n",
        "  if design == \"left stair case\":\n",
        "    i = 1\n",
        "    while i < num+1:\n",
        "      print(' '*(num-i) + '*'*i)\n",
        "      i+=1\n",
        "    next = input( )  \n",
        "  if design == \"hanging\":\n",
        "    i= 0\n",
        "    while i < num+1:\n",
        "      print(f'{(num-i) * \"*\"}')\n",
        "      i+=1\n",
        "    next = input( )\n"
      ],
      "metadata": {
        "id": "ym3NwW1n873Y",
        "colab": {
          "base_uri": "https://localhost:8080/"
        },
        "outputId": "924ac409-a859-41d3-f096-0e12c692ed3e"
      },
      "execution_count": null,
      "outputs": [
        {
          "name": "stdout",
          "output_type": "stream",
          "text": [
            "Select the design: hanging\n",
            "6\n",
            "******\n",
            "*****\n",
            "****\n",
            "***\n",
            "**\n",
            "*\n",
            "\n",
            "yes\n",
            "Select the design: left stair case\n",
            "6\n",
            "     *\n",
            "    **\n",
            "   ***\n",
            "  ****\n",
            " *****\n",
            "******\n",
            "yes\n",
            "Select the design: right stair case\n",
            "6\n",
            "\n",
            "*\n",
            "**\n",
            "***\n",
            "****\n",
            "*****\n",
            "******\n",
            "no\n"
          ]
        }
      ]
    }
  ]
}