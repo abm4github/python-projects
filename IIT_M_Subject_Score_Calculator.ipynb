{
  "nbformat": 4,
  "nbformat_minor": 0,
  "metadata": {
    "colab": {
      "name": "IIT-M_Subject_Score_Calculator.ipynb",
      "provenance": [],
      "collapsed_sections": [],
      "authorship_tag": "ABX9TyORx6JJDbCloFPhY33dqKKs",
      "include_colab_link": true
    },
    "kernelspec": {
      "name": "python3",
      "display_name": "Python 3"
    },
    "language_info": {
      "name": "python"
    }
  },
  "cells": [
    {
      "cell_type": "markdown",
      "metadata": {
        "id": "view-in-github",
        "colab_type": "text"
      },
      "source": [
        "<a href=\"https://colab.research.google.com/github/abm4github/python-projects/blob/master/IIT_M_Subject_Score_Calculator.ipynb\" target=\"_parent\"><img src=\"https://colab.research.google.com/assets/colab-badge.svg\" alt=\"Open In Colab\"/></a>"
      ]
    },
    {
      "cell_type": "markdown",
      "source": [
        "## IIT-M Subject Score Calculator\n"
      ],
      "metadata": {
        "id": "QH1e6ZkQoa0j"
      }
    },
    {
      "cell_type": "markdown",
      "source": [
        "It takes scores of, all the 12 graded assignments seperated by \" \" space, quiz 1, quiz 2, final test and bonus marks as input, so keep them ready before the execution of the following code cell.\n",
        "\n",
        "It gives your final score of the subject you entered the marks upon successful completion of the course. \n",
        "\n",
        "All the Best!"
      ],
      "metadata": {
        "id": "gdtqEV-SojRq"
      }
    },
    {
      "cell_type": "code",
      "source": [
        "print('       IIT-M, B.Sc. in Programming and Data Science, subject score calculator\\n')\n",
        "\n",
        "subject = input('Enter the name of the subject you wish to calculate the final score: ')\n",
        "\n",
        "GAA_split = []\n",
        "while (len(GAA_split)) != 12:\n",
        "  GAA_marks = input('Enter all the 12 of your graded assignment marks seperated by a space. Enter 0 if any score is unavailable:\\n ')\n",
        "  GAA_split = GAA_marks.split()\n",
        "for i in range(len(GAA_split)):\n",
        "    GAA_split[i] = float(GAA_split[i])\n",
        "GAA_split.sort(reverse=True)\n",
        "GAA= 0.0\n",
        "i = 0\n",
        "while i < 7:\n",
        "  GAA = GAA + GAA_split[i]\n",
        "  i = i+1\n",
        " \n",
        "Q1 = float(input('Enter your quiz 1 score,enter 0 if not attempted it:'))\n",
        "Q2 = float(input('Enter your quiz 2 score,enter 0 if not attempted it:'))\n",
        "\n",
        "if GAA/7 > 40:\n",
        "  F = float(input('Enter your end term test score,enter 0 if not attempted it:'))\n",
        "  Final_score = max(0.1*(GAA/7) + 0.6*F + 0.25*(max(Q1,Q2)) , 0.1*(GAA/7) + 0.4*F + 0.25*Q1 + 0.25*Q2 )\n",
        "  if Final_score > 40:\n",
        "    bonus  = float(input(f'Enter your {subject} bonus marks: '))\n",
        "    Final_score = Final_score + bonus\n",
        "    print(f'\\nCongratulations, you have passed the {subject} exam with the score {Final_score}')\n",
        "  else:\n",
        "    print(\"Re-attempt the exam\")\n",
        "else:\n",
        "  print(\"You are not eligible for final test\")\n"
      ],
      "metadata": {
        "colab": {
          "base_uri": "https://localhost:8080/"
        },
        "id": "qCkxl9EjA3-3",
        "outputId": "5306efb9-5c94-47a9-8cbb-21053df254bd"
      },
      "execution_count": 38,
      "outputs": [
        {
          "output_type": "stream",
          "name": "stdout",
          "text": [
            "       IIT-M, B.Sc. in Programming and Data Science, subject score calculator\n",
            "\n",
            "Enter the name of the subject you wish to calculate the final score: Computational Thinking\n",
            "Enter all the 12 of your graded assignment marks seperated by a space. Enter 0 if any score is unavailable:\n",
            " 98 98 98 98 98 98 98 98 98 98 98 98\n",
            "Enter your quiz 1 score,enter 0 if not attempted it:81\n",
            "Enter your quiz 2 score,enter 0 if not attempted it:92\n",
            "Enter your end term test score,enter 0 if not attempted it:80\n",
            "Enter your Computational Thinking bonus marks: 10\n",
            "\n",
            "Congratulations, you have passed the Computational Thinking exam with the score 95.05\n"
          ]
        }
      ]
    }
  ]
}